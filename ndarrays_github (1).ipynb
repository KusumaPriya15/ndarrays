{
 "cells": [
  {
   "cell_type": "markdown",
   "id": "2f4ba46f",
   "metadata": {},
   "source": [
    "# NumPy `ndarray`: A Multidimensional Array Object\n",
    "NumPy's `ndarray` is a fast, flexible container for large datasets in Python. It enables mathematical operations on whole blocks of data using syntax similar to scalar operations."
   ]
  },
  {
   "cell_type": "code",
   "execution_count": 20,
   "id": "c20e1511",
   "metadata": {},
   "outputs": [],
   "source": [
    "import numpy as np\n",
    "# NumPy's ndarray is a fast, flexible container for large datasets in Python.\n",
    "# It enables mathematical operations on whole blocks of data using syntax similar to scalar operations."
   ]
  },
  {
   "cell_type": "code",
   "execution_count": 21,
   "id": "2a0ab9df",
   "metadata": {},
   "outputs": [
    {
     "name": "stdout",
     "output_type": "stream",
     "text": [
      "Random Data Array:\n",
      " [[-1.02569465  0.89397906  2.35345157]\n",
      " [ 1.48949619  0.5688018   0.80536636]]\n"
     ]
    }
   ],
   "source": [
    "# Generate a 2x3 array of random numbers\n",
    "data = np.random.randn(2, 3)\n",
    "# Display the array\n",
    "print('Random Data Array:\\n', data)"
   ]
  },
  {
   "cell_type": "code",
   "execution_count": 22,
   "id": "fd6ee109",
   "metadata": {},
   "outputs": [
    {
     "name": "stdout",
     "output_type": "stream",
     "text": [
      "\n",
      "Data Array Multiplied by 10:\n",
      " [[-10.2569465    8.9397906   23.53451574]\n",
      " [ 14.89496188   5.68801801   8.0536636 ]]\n"
     ]
    }
   ],
   "source": [
    "# Perform a mathematical operation: multiply all elements by 10\n",
    "data_multiplied = data * 10\n",
    "# Display the result of the multiplication\n",
    "print('\\nData Array Multiplied by 10:\\n', data_multiplied)"
   ]
  },
  {
   "cell_type": "code",
   "execution_count": 23,
   "id": "f4aa0c46",
   "metadata": {},
   "outputs": [
    {
     "name": "stdout",
     "output_type": "stream",
     "text": [
      "\n",
      "Data Array Added to Itself:\n",
      " [[-2.0513893   1.78795812  4.70690315]\n",
      " [ 2.97899238  1.1376036   1.61073272]]\n"
     ]
    }
   ],
   "source": [
    "# Perform another mathematical operation: add the array to itself\n",
    "data_added = data + data\n",
    "# Display the result of the addition\n",
    "print('\\nData Array Added to Itself:\\n', data_added)"
   ]
  },
  {
   "cell_type": "markdown",
   "id": "e3e44dbe",
   "metadata": {},
   "source": [
    "Each element in the array is multiplied by 10 in the first example, and the corresponding elements are added in the second example.\n",
    "\n",
    "An `ndarray` is a multidimensional container for homogeneous data. It has attributes like `shape` and `dtype` that provide information about the array's dimensions and data type."
   ]
  },
  {
   "cell_type": "code",
   "execution_count": 24,
   "id": "8b336a10",
   "metadata": {},
   "outputs": [
    {
     "name": "stdout",
     "output_type": "stream",
     "text": [
      "\n",
      "Shape of the Data Array: (2, 3)\n",
      "Data Type of the Array Elements: float64\n"
     ]
    }
   ],
   "source": [
    "# Check the shape of the array (number of rows and columns)\n",
    "print('\\nShape of the Data Array:', data.shape)\n",
    "\n",
    "# Check the data type of the elements in the array\n",
    "print('Data Type of the Array Elements:', data.dtype)"
   ]
  },
  {
   "cell_type": "code",
   "execution_count": null,
   "id": "cbd12822",
   "metadata": {},
   "outputs": [],
   "source": []
  },
  {
   "cell_type": "markdown",
   "id": "2f1474bb",
   "metadata": {},
   "source": [
    "### Creating ndarrays using different methods:"
   ]
  },
  {
   "cell_type": "code",
   "execution_count": 25,
   "id": "280fb7c3",
   "metadata": {},
   "outputs": [
    {
     "name": "stdout",
     "output_type": "stream",
     "text": [
      "\n",
      "Array Created from List: [6.  7.5 8.  0.  1. ]\n"
     ]
    }
   ],
   "source": [
    "# 1. Convert a list to a NumPy array\n",
    "data1 = [6, 7.5, 8, 0, 1]\n",
    "arr1 = np.array(data1)\n",
    "# Display the array created from the list\n",
    "print('\\nArray Created from List:', arr1)"
   ]
  },
  {
   "cell_type": "code",
   "execution_count": 26,
   "id": "c9bca765",
   "metadata": {},
   "outputs": [
    {
     "name": "stdout",
     "output_type": "stream",
     "text": [
      "\n",
      "Multidimensional Array Created from Nested List:\n",
      " [[1 2 3 4]\n",
      " [5 6 7 8]]\n",
      "\n",
      "Number of Dimensions of arr2: 2\n",
      "Shape of arr2: (2, 4)\n",
      "Data Type of arr1: float64\n",
      "Data Type of arr2: int32\n"
     ]
    }
   ],
   "source": [
    "# 2. Convert a nested list to a multidimensional array\n",
    "data2 = [[1, 2, 3, 4], [5, 6, 7, 8]]\n",
    "arr2 = np.array(data2)\n",
    "# Display the multidimensional array\n",
    "print('\\nMultidimensional Array Created from Nested List:\\n', arr2)\n",
    "\n",
    "# Check the number of dimensions of the array\n",
    "print('\\nNumber of Dimensions of arr2:', arr2.ndim)\n",
    "\n",
    "# Check the shape of the array\n",
    "print('Shape of arr2:', arr2.shape)\n",
    "\n",
    "# Check the data type of the array elements\n",
    "print('Data Type of arr1:', arr1.dtype)\n",
    "print('Data Type of arr2:', arr2.dtype)"
   ]
  },
  {
   "cell_type": "code",
   "execution_count": 27,
   "id": "08725901",
   "metadata": {},
   "outputs": [
    {
     "name": "stdout",
     "output_type": "stream",
     "text": [
      "\n",
      "Array of Zeros: [0. 0. 0. 0. 0. 0. 0. 0. 0. 0.]\n",
      "\n",
      "3x6 Array of Zeros:\n",
      " [[0. 0. 0. 0. 0. 0.]\n",
      " [0. 0. 0. 0. 0. 0.]\n",
      " [0. 0. 0. 0. 0. 0.]]\n",
      "\n",
      "3D Array Created with np.empty:\n",
      " [[[1.24281491e-311 2.81617418e-322]\n",
      "  [0.00000000e+000 0.00000000e+000]\n",
      "  [1.11260619e-306 1.04082753e-047]]\n",
      "\n",
      " [[5.03158198e-091 1.69175722e-052]\n",
      "  [4.29238619e-038 8.00082347e+169]\n",
      "  [6.48224660e+170 4.93432906e+257]]]\n",
      "\n",
      "Array Created with np.arange: [ 0  1  2  3  4  5  6  7  8  9 10 11 12 13 14]\n"
     ]
    }
   ],
   "source": [
    "# Creating arrays using other NumPy functions:\n",
    "\n",
    "# 1. Create an array of zeros with a specified length\n",
    "zeros_array = np.zeros(10)\n",
    "# Display the array of zeros\n",
    "print('\\nArray of Zeros:', zeros_array)\n",
    "\n",
    "# 2. Create a 3x6 array of zeros\n",
    "zeros_2d_array = np.zeros((3, 6))\n",
    "# Display the 3x6 array of zeros\n",
    "print('\\n3x6 Array of Zeros:\\n', zeros_2d_array)\n",
    "\n",
    "# 3. Create a 3D array using np.empty (may contain uninitialized values)\n",
    "empty_array = np.empty((2, 3, 2))\n",
    "# Display the uninitialized 3D array\n",
    "print('\\n3D Array Created with np.empty:\\n', empty_array)\n",
    "\n",
    "# 4. Create an array using np.arange, which is similar to Python's range but returns an ndarray\n",
    "arange_array = np.arange(15)\n",
    "# Display the array created with np.arange\n",
    "print('\\nArray Created with np.arange:', arange_array)"
   ]
  },
  {
   "cell_type": "markdown",
   "id": "1f89f414",
   "metadata": {},
   "source": [
    "### Summary of array creation functions:\n",
    "* `np.array`: Convert input data to an ndarray, inferring the dtype or specifying it explicitly.\n",
    "* `np.asarray`: Convert input to ndarray without copying if it's already an ndarray.\n",
    "* `np.arange`: Return an ndarray with values within a specified range.\n",
    "* `np.ones`, `np.ones_like`: Create arrays filled with 1s.\n",
    "* `np.zeros`, `np.zeros_like`: Create arrays filled with 0s.\n",
    "* `np.empty`, `np.empty_like`: Create new arrays without initializing their values.\n",
    "* `np.full`, `np.full_like`: Create arrays with all elements set to a specified fill value.\n",
    "* `np.eye`, `np.identity`: Create an identity matrix with 1s on the diagonal."
   ]
  },
  {
   "cell_type": "markdown",
   "id": "e16238c4",
   "metadata": {},
   "source": [
    "### **Data Types for ndarrays**"
   ]
  },
  {
   "cell_type": "markdown",
   "id": "a5bb4001",
   "metadata": {},
   "source": [
    "In NumPy, the data type (`dtype`) is essential for interpreting a chunk of memory as a specific type of data. Here's how you can create arrays with specific data types:"
   ]
  },
  {
   "cell_type": "code",
   "execution_count": 28,
   "id": "9478dc96",
   "metadata": {},
   "outputs": [
    {
     "name": "stdout",
     "output_type": "stream",
     "text": [
      "float64\n",
      "int32\n"
     ]
    }
   ],
   "source": [
    "import numpy as np\n",
    "\n",
    "arr1 = np.array([1, 2, 3], dtype=np.float64)\n",
    "arr2 = np.array([1, 2, 3], dtype=np.int32)\n",
    "\n",
    "print(arr1.dtype)  \n",
    "print(arr2.dtype)  "
   ]
  },
  {
   "cell_type": "markdown",
   "id": "9aae7892",
   "metadata": {},
   "source": [
    "NumPy's flexibility with data types makes it easy to interact with data from other systems. The numerical data types (`dtypes`) are named with a type name followed by the number of bits per element, such as `float64` for a double-precision floating-point value, which uses 64 bits."
   ]
  },
  {
   "cell_type": "markdown",
   "id": "b763f56b",
   "metadata": {},
   "source": [
    "**Key NumPy Data Types:**\n",
    "\n",
    "- `int8`, `uint8`: Signed and unsigned 8-bit integers\n",
    "- `int16`, `uint16`: Signed and unsigned 16-bit integers\n",
    "- `int32`, `uint32`: Signed and unsigned 32-bit integers\n",
    "- `int64`, `uint64`: Signed and unsigned 64-bit integers\n",
    "- `float16`: Half-precision floating-point\n",
    "- `float32`: Single-precision floating-point\n",
    "- `float64`: Double-precision floating-point\n",
    "- `bool`: Boolean type\n",
    "- `object`: Python object type"
   ]
  },
  {
   "cell_type": "markdown",
   "id": "8dd9b4d2",
   "metadata": {},
   "source": [
    "You can convert an array's `dtype` using the `astype` method:"
   ]
  },
  {
   "cell_type": "code",
   "execution_count": 29,
   "id": "a687783a",
   "metadata": {},
   "outputs": [
    {
     "name": "stdout",
     "output_type": "stream",
     "text": [
      "float64\n"
     ]
    }
   ],
   "source": [
    "arr = np.array([1, 2, 3, 4, 5])\n",
    "float_arr = arr.astype(np.float64)\n",
    "\n",
    "print(float_arr.dtype) "
   ]
  },
  {
   "cell_type": "markdown",
   "id": "79f66d2b",
   "metadata": {},
   "source": [
    "Casting a floating-point array to an integer will truncate the decimal part:"
   ]
  },
  {
   "cell_type": "code",
   "execution_count": 30,
   "id": "e4b094a2",
   "metadata": {},
   "outputs": [
    {
     "name": "stdout",
     "output_type": "stream",
     "text": [
      "[ 3 -1 -2  0 12 10]\n"
     ]
    }
   ],
   "source": [
    "arr = np.array([3.7, -1.2, -2.6, 0.5, 12.9, 10.1])\n",
    "int_arr = arr.astype(np.int32)\n",
    "\n",
    "print(int_arr) "
   ]
  },
  {
   "cell_type": "markdown",
   "id": "f26c4b9f",
   "metadata": {},
   "source": [
    "For string arrays representing numbers, `astype` can convert them to numeric form:"
   ]
  },
  {
   "cell_type": "code",
   "execution_count": 31,
   "id": "ace129fd",
   "metadata": {},
   "outputs": [
    {
     "name": "stdout",
     "output_type": "stream",
     "text": [
      "[ 1.25 -9.6  42.  ]\n"
     ]
    }
   ],
   "source": [
    "numeric_strings = np.array(['1.25', '-9.6', '42'], dtype=np.string_)\n",
    "numeric_arr = numeric_strings.astype(float)\n",
    "\n",
    "print(numeric_arr) "
   ]
  },
  {
   "cell_type": "markdown",
   "id": "da7ab52e",
   "metadata": {},
   "source": [
    "### **Arithmetic with NumPy Arrays**\n",
    "\n",
    "Arrays in NumPy allow you to perform batch operations without loops, known as vectorization:"
   ]
  },
  {
   "cell_type": "code",
   "execution_count": 32,
   "id": "8563e259",
   "metadata": {},
   "outputs": [
    {
     "name": "stdout",
     "output_type": "stream",
     "text": [
      "[[ 1.  4.  9.]\n",
      " [16. 25. 36.]]\n"
     ]
    }
   ],
   "source": [
    "arr = np.array([[1., 2., 3.], [4., 5., 6.]])\n",
    "result = arr * arr  # Element-wise multiplication\n",
    "\n",
    "print(result)\n"
   ]
  },
  {
   "cell_type": "markdown",
   "id": "ad029bf0",
   "metadata": {},
   "source": [
    "Scalar operations propagate the scalar across the array:"
   ]
  },
  {
   "cell_type": "code",
   "execution_count": 33,
   "id": "13b3de82",
   "metadata": {},
   "outputs": [
    {
     "name": "stdout",
     "output_type": "stream",
     "text": [
      "[[1.         0.5        0.33333333]\n",
      " [0.25       0.2        0.16666667]]\n"
     ]
    }
   ],
   "source": [
    "scalar_result = 1 / arr\n",
    "\n",
    "print(scalar_result)\n"
   ]
  },
  {
   "cell_type": "markdown",
   "id": "602e83fc",
   "metadata": {},
   "source": [
    "### **Basic Indexing and Slicing**\n",
    "\n",
    "Indexing and slicing in NumPy arrays are powerful features. For one-dimensional arrays:"
   ]
  },
  {
   "cell_type": "code",
   "execution_count": 34,
   "id": "34bd2d75",
   "metadata": {},
   "outputs": [
    {
     "name": "stdout",
     "output_type": "stream",
     "text": [
      "5\n",
      "[5 6 7]\n"
     ]
    }
   ],
   "source": [
    "arr = np.arange(10)\n",
    "\n",
    "print(arr[5]) \n",
    "print(arr[5:8]) "
   ]
  },
  {
   "cell_type": "markdown",
   "id": "34a0b737",
   "metadata": {},
   "source": [
    "Slicing two-dimensional arrays selects a range along an axis:"
   ]
  },
  {
   "cell_type": "code",
   "execution_count": 35,
   "id": "324b480a",
   "metadata": {},
   "outputs": [
    {
     "name": "stdout",
     "output_type": "stream",
     "text": [
      "[[2 3]\n",
      " [5 6]]\n"
     ]
    }
   ],
   "source": [
    "arr2d = np.array([[1, 2, 3], [4, 5, 6], [7, 8, 9]])\n",
    "slice_result = arr2d[:2, 1:]  # Selects first two rows, columns 1 and 2\n",
    "\n",
    "print(slice_result)\n"
   ]
  },
  {
   "cell_type": "markdown",
   "id": "af0d2c60",
   "metadata": {},
   "source": [
    "### **Boolean Indexing**\n",
    "\n",
    "You can use boolean indexing to select elements based on conditions:"
   ]
  },
  {
   "cell_type": "code",
   "execution_count": 36,
   "id": "bbc000d4",
   "metadata": {},
   "outputs": [
    {
     "name": "stdout",
     "output_type": "stream",
     "text": [
      "[[-0.34912846  1.13172144  1.56652327  1.40516414]\n",
      " [ 1.71842913  1.6699194  -0.60637172 -1.63415619]]\n"
     ]
    }
   ],
   "source": [
    "names = np.array(['Bob', 'Joe', 'Will', 'Bob', 'Will', 'Joe', 'Joe'])\n",
    "data = np.random.randn(7, 4)\n",
    "\n",
    "bob_data = data[names == 'Bob']\n",
    "\n",
    "print(bob_data)\n"
   ]
  },
  {
   "cell_type": "markdown",
   "id": "2cfa5108",
   "metadata": {},
   "source": [
    "Negating a condition with `~` selects all rows except those where the condition is true:"
   ]
  },
  {
   "cell_type": "code",
   "execution_count": 37,
   "id": "c417571d",
   "metadata": {},
   "outputs": [
    {
     "name": "stdout",
     "output_type": "stream",
     "text": [
      "[[ 1.21701291 -0.62956482 -0.62793204 -0.21685985]\n",
      " [-1.08778476 -0.26562524  1.03452464 -0.76377048]\n",
      " [-0.97260174  1.9956917  -0.39331893  0.53455847]\n",
      " [-0.03236047  1.73085433 -2.34721187  0.30227095]\n",
      " [-0.62658338  1.279802    0.15176708 -0.69550891]]\n"
     ]
    }
   ],
   "source": [
    "not_bob_data = data[~(names == 'Bob')]\n",
    "\n",
    "print(not_bob_data)\n"
   ]
  },
  {
   "cell_type": "markdown",
   "id": "33d218a6",
   "metadata": {},
   "source": [
    "You can also combine multiple boolean conditions using `&` (and) and `|` (or)."
   ]
  }
 ],
 "metadata": {
  "kernelspec": {
   "display_name": "Python 3 (ipykernel)",
   "language": "python",
   "name": "python3"
  },
  "language_info": {
   "codemirror_mode": {
    "name": "ipython",
    "version": 3
   },
   "file_extension": ".py",
   "mimetype": "text/x-python",
   "name": "python",
   "nbconvert_exporter": "python",
   "pygments_lexer": "ipython3",
   "version": "3.11.5"
  }
 },
 "nbformat": 4,
 "nbformat_minor": 5
}
